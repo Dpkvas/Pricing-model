{
 "cells": [
  {
   "cell_type": "code",
   "execution_count": 4,
   "id": "a86e2f70",
   "metadata": {},
   "outputs": [],
   "source": [
    "import pandas as pd\n",
    "from datetime import datetime, timedelta"
   ]
  },
  {
   "cell_type": "code",
   "execution_count": 56,
   "id": "9ec3dd00",
   "metadata": {},
   "outputs": [],
   "source": [
    "def price_storage_contract(\n",
    "    df_prices,\n",
    "    injection_schedule,\n",
    "    withdrawal_schedule,\n",
    "    injection_cost_per_mmbtu,\n",
    "    withdrawal_cost_per_mmbtu,\n",
    "    storage_cost_per_month,\n",
    "    max_storage_volume,\n",
    "    max_injection_rate_per_day,\n",
    "    max_withdrawal_rate_per_day\n",
    "):\n",
    "    # Normalize price data\n",
    "    df_prices['Dates'] = pd.to_datetime(df_prices['Dates']).dt.date\n",
    "    price_dict = df_prices.set_index('Dates')['Prices'].to_dict()\n",
    "\n",
    "    total_value = 0.0\n",
    "    current_storage = 0.0\n",
    "    all_dates = set()\n",
    "\n",
    "    # Process injections\n",
    "    for entry in injection_schedule:\n",
    "        date = pd.to_datetime(entry['date']).date()\n",
    "        volume = entry['volume']\n",
    "        all_dates.add(date)\n",
    "\n",
    "        if volume > max_injection_rate_per_day:\n",
    "            raise ValueError(f\"Injection rate too high on {date}\")\n",
    "        if current_storage + volume > max_storage_volume:\n",
    "            raise ValueError(f\"Storage overflow on {date}\")\n",
    "        if date not in price_dict:\n",
    "            raise ValueError(f\"No price available for injection date {date}\")\n",
    "\n",
    "        price = price_dict[date]\n",
    "        total_value -= volume * price  # cost to buy\n",
    "        total_value -= injection_cost_per_mmbtu * volume\n",
    "        current_storage += volume\n",
    "\n",
    "    # Process withdrawals\n",
    "    for entry in withdrawal_schedule:\n",
    "        date = pd.to_datetime(entry['date']).date()\n",
    "        volume = entry['volume']\n",
    "        all_dates.add(date)\n",
    "\n",
    "        if volume > max_withdrawal_rate_per_day:\n",
    "            raise ValueError(f\"Withdrawal rate too high on {date}\")\n",
    "        if current_storage - volume < 0:\n",
    "            raise ValueError(f\"Not enough gas to withdraw on {date}\")\n",
    "        if date not in price_dict:\n",
    "            raise ValueError(f\"No price available for withdrawal date {date}\")\n",
    "\n",
    "        price = price_dict[date]\n",
    "        total_value += volume * price  # revenue from selling\n",
    "        total_value -= withdrawal_cost_per_mmbtu * volume\n",
    "        current_storage -= volume\n",
    "\n",
    "    # Calculate storage duration and cost\n",
    "    all_dates = sorted(all_dates)\n",
    "    if all_dates:\n",
    "        storage_months = max(1, ((all_dates[-1] - all_dates[0]).days + 1) // 30)\n",
    "        total_value -= storage_months * storage_cost_per_month\n",
    "\n",
    "    return total_value\n"
   ]
  },
  {
   "cell_type": "code",
   "execution_count": 58,
   "id": "4bfb730f",
   "metadata": {},
   "outputs": [
    {
     "name": "stdout",
     "output_type": "stream",
     "text": [
      "Contract Value: $1,080,000.0\n"
     ]
    }
   ],
   "source": [
    "#sample data\n",
    "#df = pd.read_csv(\"Nat_Gas.csv\")\n",
    "data = {  'Dates': ['2024-06-01', '2024-10-01'],    'Prices': [2.0, 3.5] }\n",
    "df = pd.DataFrame(data)\n",
    "injection_schedule = [{'date': '2024-06-01', 'volume': 1e6}]\n",
    "withdrawal_schedule = [{'date': '2024-10-01', 'volume': 1e6}]\n",
    "\n",
    "\n",
    "value = price_storage_contract(\n",
    "    df,\n",
    "    injection_schedule,\n",
    "    withdrawal_schedule,\n",
    "    injection_cost_per_mmbtu=0.01,\n",
    "    withdrawal_cost_per_mmbtu=0.01,\n",
    "    storage_cost_per_month=100_000,\n",
    "    max_storage_volume=1e6,\n",
    "    max_injection_rate_per_day=1e6,\n",
    "    max_withdrawal_rate_per_day=1e6\n",
    ")\n",
    "\n",
    "print(f\"Contract Value: ${value:,}\")"
   ]
  },
  {
   "cell_type": "code",
   "execution_count": null,
   "id": "9a1351c3",
   "metadata": {},
   "outputs": [],
   "source": []
  }
 ],
 "metadata": {
  "kernelspec": {
   "display_name": "Python 3",
   "language": "python",
   "name": "python3"
  },
  "language_info": {
   "codemirror_mode": {
    "name": "ipython",
    "version": 3
   },
   "file_extension": ".py",
   "mimetype": "text/x-python",
   "name": "python",
   "nbconvert_exporter": "python",
   "pygments_lexer": "ipython3",
   "version": "3.8.8"
  }
 },
 "nbformat": 4,
 "nbformat_minor": 5
}
